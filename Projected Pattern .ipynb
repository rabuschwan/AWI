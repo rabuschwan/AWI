{
 "cells": [
  {
   "cell_type": "code",
   "execution_count": 1,
   "metadata": {},
   "outputs": [],
   "source": [
    "import numpy as np\n",
    "import pandas as pd"
   ]
  },
  {
   "cell_type": "code",
   "execution_count": 2,
   "metadata": {},
   "outputs": [
    {
     "data": {
      "text/html": [
       "<style>.container { width:90% !important; }</style>"
      ],
      "text/plain": [
       "<IPython.core.display.HTML object>"
      ]
     },
     "metadata": {},
     "output_type": "display_data"
    }
   ],
   "source": [
    "from IPython.display import display, HTML\n",
    "display(HTML(\"<style>.container { width:90% !important; }</style>\"))"
   ]
  },
  {
   "cell_type": "code",
   "execution_count": 7,
   "metadata": {},
   "outputs": [
    {
     "name": "stdout",
     "output_type": "stream",
     "text": [
      "[[-7.81403936e+01  1.33561816e+02 -2.70558960e+01  1.02691460e+01\n",
      "   2.30526734e+01 -1.12878540e+01  1.47940738e+00 -4.23631770e+00\n",
      "  -5.50654557e-02 -4.26340203e+00]\n",
      " [ 6.44009292e+01 -8.77196039e+01 -1.35076852e+02  8.63432188e+00\n",
      "  -5.60508913e+00 -2.28711123e+00 -8.89893108e+00  1.69409572e-01\n",
      "  -1.73984549e+00 -5.15527972e+00]\n",
      " [ 1.74056902e+02  7.78784299e+01  3.36393298e+01 -1.92653277e+01\n",
      "  -1.72826249e+01  1.58540154e+01  5.76781295e+00  4.87322800e+00\n",
      "  -1.81635723e+00  7.30179710e+00]\n",
      " [ 3.59037974e+01 -9.33636636e+01  1.48217506e+02  1.63420613e+01\n",
      "   1.71630095e+01 -1.60862993e+01 -8.46209669e+00 -6.07456096e+00\n",
      "   2.64525926e+00  2.79428059e+00]\n",
      " [-2.20579819e+02 -6.52336227e+01  8.20942983e+00 -1.69905684e+01\n",
      "  -1.94811277e+01  1.44820318e+01  1.04083385e+01  5.52133282e+00\n",
      "   1.67216094e+00  1.59565595e-01]]\n",
      "future\n",
      "(5400,)\n",
      "(5520,)\n",
      "(5520,)\n"
     ]
    }
   ],
   "source": [
    "AREA=\"-90_90_89.7849_29.0866\"\n",
    "\n",
    "seas=[31,28,31,30,31,30,31,31,30,31,30,31]\n",
    "months=np.array([5,6,7,8,9,10])#np.arange(1,9,1)\n",
    "saison=\"mjjaso\"\n",
    "mode='future'\n",
    "scenario=\"_ssp3\"\n",
    "if mode=='future':\n",
    "    years=np.arange(2070,2100,1)\n",
    "else:\n",
    "    years=np.arange(1985,2014,1) #verändern\n",
    "centers = np.loadtxt(r'N:/atm_glomod/user/jomuel001/CMIP6_models/ERA5/AREA.'+AREA+r'/CLUSTER/KMEANSslp_hpa_ERA5_1979-2014_'+saison+'_atrbg_aacrm21_remapbnds_unnorm_5cluster_10PC_center.unnorm',usecols=range(1, 11), delimiter=' ',skiprows=0)\n",
    "print(centers)\n",
    "if scenario==\"_ssp2\":\n",
    "    models =[\"KACE-1-0-G\", \"MIROC-ES2L\", \"NESM3\", \"NorESM2-LM\"]\n",
    "    #[\"ACCESS-CM2\", \"ACCESS-ESM1\", \"CESM2-WACCM\", \"CNRM-CM6-1\", \"CNRM-CM6-1-HR\", \"CNRM-ESM2-1\", #ssp5,2\n",
    "     #    \"GFDL-CM4\", \"GFDL-ESM4\",\"HadGEM3-GC31-LL\", \"INM-CM4-8\", \"INM-CM5-0\", \"IPSL-CM6A-LR\", \"MIROC6\", \n",
    "      #   \"MPI-ESM1-2-HR\", \"MPI-ESM1-2-LR\", \"MRI-ESM2-0\", \"NorESM2-MM\", \"UKESM1-0-LL\"]\n",
    "elif scenario==\"\":\n",
    "    models=[\"KACE-1-0-G\", \"MIROC-ES2L\", \"NESM3\", \"NorESM2-LM\"]\n",
    "    #models =[\"ACCESS-CM2\", \"ACCESS-ESM1\", \"CESM2-WACCM\", \"CNRM-CM6-1\", \"CNRM-CM6-1-HR\", \"CNRM-ESM2-1\", #ssp5,2\n",
    "     #    \"GFDL-CM4\", \"GFDL-ESM4\",\"HadGEM3-GC31-LL\", \"INM-CM4-8\", \"INM-CM5-0\", \"IPSL-CM6A-LR\", \"MIROC6\", \n",
    "      #   \"MPI-ESM1-2-HR\", \"MPI-ESM1-2-LR\", \"MRI-ESM2-0\", \"NorESM2-MM\", \"UKESM1-0-LL\"]\n",
    "elif scenario==\"_ssp1\":\n",
    "    models= [\"KACE-1-0-G\", \"MIROC-ES2L\", \"NESM3\", \"NorESM2-LM\"]\n",
    "    #[\"ACCESS-CM2\", \"ACCESS-ESM1\", \"CESM2-WACCM\", \"CNRM-CM6-1\", \"CNRM-CM6-1-HR\", \"CNRM-ESM2-1\", #ssp1\n",
    "     #     \"GFDL-ESM4\",\"HadGEM3-GC31-LL\", \"INM-CM4-8\", \"INM-CM5-0\", \"IPSL-CM6A-LR\", \"MIROC6\", \n",
    "      #   \"MPI-ESM1-2-HR\", \"MPI-ESM1-2-LR\", \"MRI-ESM2-0\", \"NorESM2-MM\", \"UKESM1-0-LL\"]\n",
    "elif scenario==\"_ssp3\":\n",
    "    models = [\"KACE-1-0-G\", \"MIROC-ES2L\", \"NorESM2-LM\"]\n",
    "    #[\"ACCESS-CM2\", \"ACCESS-ESM1\", \"CESM2-WACCM\", \"CNRM-CM6-1\", \"CNRM-CM6-1-HR\", \"CNRM-ESM2-1\",  #ssp3\n",
    "     #     \"GFDL-ESM4\", \"INM-CM4-8\", \"INM-CM5-0\", \"IPSL-CM6A-LR\", \"MIROC6\",  \"MPI-ESM1-2-LR\", \"MRI-ESM2-0\", \"UKESM1-0-LL\"]\n",
    "elif scenario==\"hist\":\n",
    "    #models = [\"ACCESS-CM2\", \"ACCESS-ESM1\", \"CESM2-WACCM\", \"CNRM-CM6-1\", \"CNRM-CM6-1-HR\", \"CNRM-ESM2-1\", #ssp5,2\n",
    "     #    \"GFDL-CM4\", \"GFDL-ESM4\",\"HadGEM3-GC31-LL\", \"INM-CM4-8\", \"INM-CM5-0\", \"IPSL-CM6A-LR\", \"MIROC6\", \n",
    "      #   \"MPI-ESM1-2-HR\", \"MPI-ESM1-2-LR\", \"MRI-ESM2-0\", \"NorESM2-MM\", \"UKESM1-0-LL\"]\n",
    "#\n",
    "    models=[\"KACE-1-0-G\", \"MIROC-ES2L\", \"NESM3\", \"NorESM2-LM\"]\n",
    "if mode=='future':\n",
    "    year_zusatz = \"2070-2099.N_\"+saison+\"_atrbg_aacHrm21\"\n",
    "    print(\"future\")\n",
    "else:\n",
    "    year_zusatz = \"1985-2014.N_\"+saison+\"_atrbg_aacrm21\"\n",
    "def distance(center,array):\n",
    "    result = np.zeros(len(array))\n",
    "    for i in range(len(array)):\n",
    "        result[i]=np.linalg.norm(array[i]-center)\n",
    "    return result\n",
    "def scientific_to_standard(num_string):\n",
    "    return float(num_string.replace('E+', '1e'))\n",
    "\n",
    "for model in models:\n",
    "    #pc = pd.read_csv(,sep=\"\\t\",header=None)\n",
    "    with open(r'N:/atm_glomod/user/jomuel001/CMIP6_models/'+model+r'/AREA.'+AREA+r'/EOF/PCslp_hpa'+scenario+'_'+model+'_'+year_zusatz+r'_remapbnds_proj_on_EOF_ERA51985-2014slp_hpa_ERA5_1985-2014_'+saison+'_atrbg_aacrm21_remapbnds_cos_cov_svd_unnorm', 'r') as file:\n",
    "        contents = file.read().split()\n",
    "        arr =np.array([float(item) for item in contents])\n",
    "        pc = arr.reshape((-1, 10))\n",
    "    data = {'dist_cl1': distance(centers[0],pc),\n",
    "        'dist_cl2': distance(centers[1],pc),\n",
    "        'dist_cl3': distance(centers[2],pc),\n",
    "        'dist_cl4': distance(centers[3],pc),\n",
    "        'dist_cl5': distance(centers[4],pc)}\n",
    "    print(np.shape(data['dist_cl1']))\n",
    "    tag=0\n",
    "    tage_1=[]\n",
    "    tage_2=[]\n",
    "    tage_3=[]\n",
    "    tage_4=[]\n",
    "    tage_5=[]\n",
    "    with open('N:/atm_glomod/user/jomuel001/CMIP6_models/'+model+r'/AREA.'+AREA+r'/CLUSTER/KMEANSslp_hpa'+scenario+'_'+model+'_'+year_zusatz+'_remapbnds_proj_on_EOF_ERA51985-2014slp_hpa_ERA5_1985-2014_'+saison+'_atrbg_aacrm21_remapbnds_unnorm_projectedpattern_5tabcluster_10tabPC_dates', 'w') as f:\n",
    "        try:\n",
    "            for year in years:\n",
    "                for month in months: \n",
    "                    for day in range(1,seas[month-1]+1):\n",
    "                        try:\n",
    "                            distances_tag = np.array([data['dist_cl1'][tag], data['dist_cl2'][tag], data['dist_cl3'][tag], data['dist_cl4'][tag], data['dist_cl5'][tag]])\n",
    "                            minimum_index = np.argmin(distances_tag)\n",
    "                        except:\n",
    "                            minimum_index = -1\n",
    "                        write_array = np.array([year, month, day, minimum_index+1,0,0])\n",
    "                        f.write(' '.join(map(str, write_array)))\n",
    "                        f.write('\\n')\n",
    "                        if minimum_index+1==1:\n",
    "                            tage_1.append(int(tag))\n",
    "                        elif minimum_index+1==2:\n",
    "                            tage_2.append(int(tag))\n",
    "                        elif minimum_index+1==3:\n",
    "                            tage_3.append(int(tag))\n",
    "                        elif minimum_index+1==4:\n",
    "                            tage_4.append(int(tag))\n",
    "                        elif minimum_index+1==5: \n",
    "                            tage_5.append(int(tag))\n",
    "                        else:\n",
    "                            continue\n",
    "                        tag+=1\n",
    "        except:\n",
    "            print(\"fehlen bei \"+model+\" 120 tage\")\n",
    "    tage_1=np.array(tage_1)\n",
    "    tage_2=np.array(tage_2)\n",
    "    tage_3=np.array(tage_3)\n",
    "    tage_4=np.array(tage_4)\n",
    "    tage_5=np.array(tage_5)\n",
    "    np.savetxt('N:/atm_glomod/user/jomuel001/CMIP6_models/'+model+r'/AREA.'+AREA+r'/CLUSTER/KMEANSslp_hpa'+scenario+'_'+model+'_'+year_zusatz+'_remapbnds_proj_on_EOF_ERA51985-2014slp_hpa_ERA5_1985-2014_'+saison+'_atrbg_aacrm21_remapbnds_unnorm_projectedpattern_5cluster_10PC_cl1_dates', tage_1,fmt='%d')\n",
    "    np.savetxt('N:/atm_glomod/user/jomuel001/CMIP6_models/'+model+r'/AREA.'+AREA+r'/CLUSTER/KMEANSslp_hpa'+scenario+'_'+model+'_'+year_zusatz+'_remapbnds_proj_on_EOF_ERA51985-2014slp_hpa_ERA5_1985-2014_'+saison+'_atrbg_aacrm21_remapbnds_unnorm_projectedpattern_5cluster_10PC_cl2_dates', tage_2,fmt='%d')\n",
    "    np.savetxt('N:/atm_glomod/user/jomuel001/CMIP6_models/'+model+r'/AREA.'+AREA+r'/CLUSTER/KMEANSslp_hpa'+scenario+'_'+model+'_'+year_zusatz+'_remapbnds_proj_on_EOF_ERA51985-2014slp_hpa_ERA5_1985-2014_'+saison+'_atrbg_aacrm21_remapbnds_unnorm_projectedpattern_5cluster_10PC_cl3_dates', tage_3,fmt='%d')\n",
    "    np.savetxt('N:/atm_glomod/user/jomuel001/CMIP6_models/'+model+r'/AREA.'+AREA+r'/CLUSTER/KMEANSslp_hpa'+scenario+'_'+model+'_'+year_zusatz+'_remapbnds_proj_on_EOF_ERA51985-2014slp_hpa_ERA5_1985-2014_'+saison+'_atrbg_aacrm21_remapbnds_unnorm_projectedpattern_5cluster_10PC_cl4_dates', tage_4,fmt='%d')\n",
    "    np.savetxt('N:/atm_glomod/user/jomuel001/CMIP6_models/'+model+r'/AREA.'+AREA+r'/CLUSTER/KMEANSslp_hpa'+scenario+'_'+model+'_'+year_zusatz+'_remapbnds_proj_on_EOF_ERA51985-2014slp_hpa_ERA5_1985-2014_'+saison+'_atrbg_aacrm21_remapbnds_unnorm_projectedpattern_5cluster_10PC_cl5_dates', tage_5,fmt='%d')\n",
    "    "
   ]
  },
  {
   "cell_type": "code",
   "execution_count": 41,
   "metadata": {},
   "outputs": [
    {
     "data": {
      "text/plain": [
       "5400"
      ]
     },
     "execution_count": 41,
     "metadata": {},
     "output_type": "execute_result"
    }
   ],
   "source": [
    "int(tag)"
   ]
  },
  {
   "cell_type": "code",
   "execution_count": null,
   "metadata": {},
   "outputs": [],
   "source": []
  },
  {
   "cell_type": "code",
   "execution_count": null,
   "metadata": {},
   "outputs": [],
   "source": []
  },
  {
   "cell_type": "code",
   "execution_count": null,
   "metadata": {},
   "outputs": [],
   "source": []
  }
 ],
 "metadata": {
  "kernelspec": {
   "display_name": "Python 3",
   "language": "python",
   "name": "python3"
  },
  "language_info": {
   "codemirror_mode": {
    "name": "ipython",
    "version": 3
   },
   "file_extension": ".py",
   "mimetype": "text/x-python",
   "name": "python",
   "nbconvert_exporter": "python",
   "pygments_lexer": "ipython3",
   "version": "3.8.7"
  }
 },
 "nbformat": 4,
 "nbformat_minor": 4
}
