{
 "cells": [
  {
   "cell_type": "code",
   "execution_count": 1,
   "metadata": {},
   "outputs": [],
   "source": [
    "import numpy as np\n",
    "import pandas as pd"
   ]
  },
  {
   "cell_type": "code",
   "execution_count": 2,
   "metadata": {},
   "outputs": [
    {
     "data": {
      "text/html": [
       "<style>.container { width:90% !important; }</style>"
      ],
      "text/plain": [
       "<IPython.core.display.HTML object>"
      ]
     },
     "metadata": {},
     "output_type": "display_data"
    }
   ],
   "source": [
    "from IPython.display import display, HTML\n",
    "display(HTML(\"<style>.container { width:90% !important; }</style>\"))"
   ]
  },
  {
   "cell_type": "code",
   "execution_count": 15,
   "metadata": {},
   "outputs": [
    {
     "name": "stdout",
     "output_type": "stream",
     "text": [
      "[[-4.32610165e+01  5.49632097e+01 -1.29530833e+02 -6.67634343e+01\n",
      "   1.24832451e+01 -1.31860685e+01 -9.14885660e+00  1.53947726e+00\n",
      "  -6.98973625e+00  6.58153667e-01]\n",
      " [ 7.80426663e+01  1.58275153e+02  5.58486810e+01  3.86108290e+01\n",
      "  -8.47547262e+00 -4.31519063e+00  4.91677176e+00  5.65054905e+00\n",
      "   9.01011008e+00 -4.31852250e+00]\n",
      " [ 2.13674820e+02 -5.65263093e+01 -3.62998317e+01 -1.98079445e+01\n",
      "  -6.18300845e+00  1.49651892e+01 -5.55976491e+00 -5.02376888e+00\n",
      "  -1.44104355e+00  3.06006748e+00]\n",
      " [-2.35988217e+02 -3.26700708e+00  1.37937316e+01  7.99425136e+00\n",
      "  -9.62224532e+00  1.22673099e+01 -7.48436829e+00  1.16197987e+00\n",
      "   1.67037768e+00 -1.27592359e+00]\n",
      " [-1.68005204e+01 -1.33295237e+02 -5.13914851e+01  8.64605781e+01\n",
      "   6.29262003e+00 -6.65674418e+00  1.72506795e+01 -4.28163561e+00\n",
      "   6.82795355e+00  3.88389852e+00]\n",
      " [-6.31892006e+00 -5.50916032e+01  1.83733806e+02 -4.08603318e+01\n",
      "   6.33393963e+00 -2.58405161e+00  2.55288045e+00  2.26873016e-01\n",
      "  -9.91361661e+00 -1.84987165e+00]]\n",
      "future\n",
      "(0,)\n"
     ]
    },
    {
     "ename": "FileNotFoundError",
     "evalue": "[Errno 2] No such file or directory: 'N:/atm_glomod/user/jomuel001/CMIP6_models/ACCESS-CM2/AREA.-90_90_89.7849_29.0866/CLUSTER/KMEANSslp_hpa_ACCESS-CM2_2070-2099.N_mjjaso_atrbg_aacHrm21_remapbnds_proj_on_EOF_ERA51985-2014slp_hpa_ERA5_1985-2014_mjjaso_atrbg_aacrm21_remapbnds_unnorm_projectedpattern_6tabcluster_10tabPC_dates'",
     "output_type": "error",
     "traceback": [
      "\u001b[1;31m---------------------------------------------------------------------------\u001b[0m",
      "\u001b[1;31mFileNotFoundError\u001b[0m                         Traceback (most recent call last)",
      "Cell \u001b[1;32mIn[15], line 76\u001b[0m\n\u001b[0;32m     71\u001b[0m tage_6\u001b[38;5;241m=\u001b[39m[]\n\u001b[0;32m     72\u001b[0m \u001b[38;5;66;03m#null=np.array([0])\u001b[39;00m\n\u001b[0;32m     73\u001b[0m \u001b[38;5;66;03m#np.savetxt(r'N:/atm_glomod/user/jomuel001/CMIP6_models/'+model+r'/AREA.'+AREA+r'/CLUSTER/KMEANSslp_hpa'+scenario+'_'+model+'_'+year_zusatz+'_remapbnds_proj_on_EOF_ERA51985-2014slp_hpa_ERA5_1985-2014_'+saison+'_atrbg_aacrm21_remapbnds_unnorm_projectedpattern_6tabcluster_10tabPC_dates', null)\u001b[39;00m\n\u001b[0;32m     74\u001b[0m \u001b[38;5;66;03m# Ensure the directory structure exists, creating any missing directories\u001b[39;00m\n\u001b[0;32m     75\u001b[0m \u001b[38;5;66;03m#os.makedirs(file_path, exist_ok=True)\u001b[39;00m\n\u001b[1;32m---> 76\u001b[0m \u001b[38;5;28;01mwith\u001b[39;00m \u001b[38;5;28;43mopen\u001b[39;49m\u001b[43m(\u001b[49m\u001b[38;5;124;43mr\u001b[39;49m\u001b[38;5;124;43m'\u001b[39;49m\u001b[38;5;124;43mN:/atm_glomod/user/jomuel001/CMIP6_models/\u001b[39;49m\u001b[38;5;124;43m'\u001b[39;49m\u001b[38;5;241;43m+\u001b[39;49m\u001b[43mmodel\u001b[49m\u001b[38;5;241;43m+\u001b[39;49m\u001b[38;5;124;43mr\u001b[39;49m\u001b[38;5;124;43m'\u001b[39;49m\u001b[38;5;124;43m/AREA.\u001b[39;49m\u001b[38;5;124;43m'\u001b[39;49m\u001b[38;5;241;43m+\u001b[39;49m\u001b[43mAREA\u001b[49m\u001b[38;5;241;43m+\u001b[39;49m\u001b[38;5;124;43mr\u001b[39;49m\u001b[38;5;124;43m'\u001b[39;49m\u001b[38;5;124;43m/CLUSTER/KMEANSslp_hpa\u001b[39;49m\u001b[38;5;124;43m'\u001b[39;49m\u001b[38;5;241;43m+\u001b[39;49m\u001b[43mscenario\u001b[49m\u001b[38;5;241;43m+\u001b[39;49m\u001b[38;5;124;43m'\u001b[39;49m\u001b[38;5;124;43m_\u001b[39;49m\u001b[38;5;124;43m'\u001b[39;49m\u001b[38;5;241;43m+\u001b[39;49m\u001b[43mmodel\u001b[49m\u001b[38;5;241;43m+\u001b[39;49m\u001b[38;5;124;43m'\u001b[39;49m\u001b[38;5;124;43m_\u001b[39;49m\u001b[38;5;124;43m'\u001b[39;49m\u001b[38;5;241;43m+\u001b[39;49m\u001b[43myear_zusatz\u001b[49m\u001b[38;5;241;43m+\u001b[39;49m\u001b[38;5;124;43m'\u001b[39;49m\u001b[38;5;124;43m_remapbnds_proj_on_EOF_ERA51985-2014slp_hpa_ERA5_1985-2014_\u001b[39;49m\u001b[38;5;124;43m'\u001b[39;49m\u001b[38;5;241;43m+\u001b[39;49m\u001b[43msaison\u001b[49m\u001b[38;5;241;43m+\u001b[39;49m\u001b[38;5;124;43m'\u001b[39;49m\u001b[38;5;124;43m_atrbg_aacrm21_remapbnds_unnorm_projectedpattern_6tabcluster_10tabPC_dates\u001b[39;49m\u001b[38;5;124;43m'\u001b[39;49m\u001b[43m,\u001b[49m\u001b[43m \u001b[49m\u001b[38;5;124;43m'\u001b[39;49m\u001b[38;5;124;43mw\u001b[39;49m\u001b[38;5;124;43m'\u001b[39;49m\u001b[43m)\u001b[49m \u001b[38;5;28;01mas\u001b[39;00m f:\n\u001b[0;32m     77\u001b[0m     \u001b[38;5;28;01mtry\u001b[39;00m:\n\u001b[0;32m     78\u001b[0m         \u001b[38;5;28;01mfor\u001b[39;00m year \u001b[38;5;129;01min\u001b[39;00m years:\n",
      "File \u001b[1;32m~\\Downloads\\WPy64-31150\\python-3.11.5.amd64\\Lib\\site-packages\\IPython\\core\\interactiveshell.py:286\u001b[0m, in \u001b[0;36m_modified_open\u001b[1;34m(file, *args, **kwargs)\u001b[0m\n\u001b[0;32m    279\u001b[0m \u001b[38;5;28;01mif\u001b[39;00m file \u001b[38;5;129;01min\u001b[39;00m {\u001b[38;5;241m0\u001b[39m, \u001b[38;5;241m1\u001b[39m, \u001b[38;5;241m2\u001b[39m}:\n\u001b[0;32m    280\u001b[0m     \u001b[38;5;28;01mraise\u001b[39;00m \u001b[38;5;167;01mValueError\u001b[39;00m(\n\u001b[0;32m    281\u001b[0m         \u001b[38;5;124mf\u001b[39m\u001b[38;5;124m\"\u001b[39m\u001b[38;5;124mIPython won\u001b[39m\u001b[38;5;124m'\u001b[39m\u001b[38;5;124mt let you open fd=\u001b[39m\u001b[38;5;132;01m{\u001b[39;00mfile\u001b[38;5;132;01m}\u001b[39;00m\u001b[38;5;124m by default \u001b[39m\u001b[38;5;124m\"\u001b[39m\n\u001b[0;32m    282\u001b[0m         \u001b[38;5;124m\"\u001b[39m\u001b[38;5;124mas it is likely to crash IPython. If you know what you are doing, \u001b[39m\u001b[38;5;124m\"\u001b[39m\n\u001b[0;32m    283\u001b[0m         \u001b[38;5;124m\"\u001b[39m\u001b[38;5;124myou can use builtins\u001b[39m\u001b[38;5;124m'\u001b[39m\u001b[38;5;124m open.\u001b[39m\u001b[38;5;124m\"\u001b[39m\n\u001b[0;32m    284\u001b[0m     )\n\u001b[1;32m--> 286\u001b[0m \u001b[38;5;28;01mreturn\u001b[39;00m \u001b[43mio_open\u001b[49m\u001b[43m(\u001b[49m\u001b[43mfile\u001b[49m\u001b[43m,\u001b[49m\u001b[43m \u001b[49m\u001b[38;5;241;43m*\u001b[39;49m\u001b[43margs\u001b[49m\u001b[43m,\u001b[49m\u001b[43m \u001b[49m\u001b[38;5;241;43m*\u001b[39;49m\u001b[38;5;241;43m*\u001b[39;49m\u001b[43mkwargs\u001b[49m\u001b[43m)\u001b[49m\n",
      "\u001b[1;31mFileNotFoundError\u001b[0m: [Errno 2] No such file or directory: 'N:/atm_glomod/user/jomuel001/CMIP6_models/ACCESS-CM2/AREA.-90_90_89.7849_29.0866/CLUSTER/KMEANSslp_hpa_ACCESS-CM2_2070-2099.N_mjjaso_atrbg_aacHrm21_remapbnds_proj_on_EOF_ERA51985-2014slp_hpa_ERA5_1985-2014_mjjaso_atrbg_aacrm21_remapbnds_unnorm_projectedpattern_6tabcluster_10tabPC_dates'"
     ]
    }
   ],
   "source": [
    "AREA=\"-90_90_89.7849_29.0866\"\n",
    "\n",
    "seas=[31,28,31,30,31,30,31,31,30,31,30,31]\n",
    "months=np.array([5,6,7,8,9,10])#np.arange(1,9,1)\n",
    "saison=\"mjjaso\"\n",
    "mode='future'\n",
    "scenario=\"\"\n",
    "if mode=='future':\n",
    "    years=np.arange(2070,2100,1)\n",
    "else:\n",
    "    years=np.arange(1985,2014,1) #verändern\n",
    "centers = np.loadtxt(r'N:/atm_glomod/user/jomuel001/CMIP6_models/ERA5/AREA.'+AREA+r'/CLUSTER/KMEANSslp_hpa_ERA5_1985-2014_'+saison+'_atrbg_aacrm21_remapbnds_unnorm_6cluster_10PC_center.unnorm',usecols=range(1, 11), delimiter=' ',skiprows=0)\n",
    "print(centers)\n",
    "if scenario==\"_ssp2\":\n",
    "   # models =[\"KACE-1-0-G\", \"MIROC-ES2L\", \"NESM3\", \"NorESM2-LM\"]\n",
    "    models= [\"ACCESS-CM2\", \"ACCESS-ESM1\", \"CESM2-WACCM\", \"CNRM-CM6-1\", \"CNRM-CM6-1-HR\", \"CNRM-ESM2-1\", #ssp5,2\n",
    "         \"GFDL-CM4\", \"GFDL-ESM4\",\"HadGEM3-GC31-LL\", \"INM-CM4-8\", \"INM-CM5-0\", \"IPSL-CM6A-LR\", \"MIROC6\", \n",
    "         \"MPI-ESM1-2-HR\", \"MPI-ESM1-2-LR\", \"MRI-ESM2-0\", \"NorESM2-MM\", \"UKESM1-0-LL\"]\n",
    "elif scenario==\"\":\n",
    "    #models=[\"KACE-1-0-G\", \"MIROC-ES2L\", \"NESM3\", \"NorESM2-LM\"]\n",
    "    models =[\"ACCESS-CM2\", \"ACCESS-ESM1\", \"CESM2-WACCM\", \"CNRM-CM6-1\", \"CNRM-CM6-1-HR\", \"CNRM-ESM2-1\", #ssp5,2\n",
    "         \"GFDL-CM4\", \"GFDL-ESM4\",\"HadGEM3-GC31-LL\", \"INM-CM4-8\", \"INM-CM5-0\", \"IPSL-CM6A-LR\", \"MIROC6\", \n",
    "         \"MPI-ESM1-2-HR\", \"MPI-ESM1-2-LR\", \"MRI-ESM2-0\", \"NorESM2-MM\", \"UKESM1-0-LL\"]\n",
    "elif scenario==\"_ssp1\":\n",
    "    #models= [\"KACE-1-0-G\", \"MIROC-ES2L\", \"NESM3\", \"NorESM2-LM\"]\n",
    "    models=[\"ACCESS-CM2\", \"ACCESS-ESM1\", \"CESM2-WACCM\", \"CNRM-CM6-1\", \"CNRM-CM6-1-HR\", \"CNRM-ESM2-1\", #ssp1\n",
    "          \"GFDL-ESM4\",\"HadGEM3-GC31-LL\", \"INM-CM4-8\", \"INM-CM5-0\", \"IPSL-CM6A-LR\", \"MIROC6\", \n",
    "         \"MPI-ESM1-2-HR\", \"MPI-ESM1-2-LR\", \"MRI-ESM2-0\", \"NorESM2-MM\", \"UKESM1-0-LL\"]\n",
    "elif scenario==\"_ssp3\":\n",
    "    #models = [\"KACE-1-0-G\", \"MIROC-ES2L\", \"NorESM2-LM\"]\n",
    "    [\"ACCESS-CM2\", \"ACCESS-ESM1\", \"CESM2-WACCM\", \"CNRM-CM6-1\", \"CNRM-CM6-1-HR\", \"CNRM-ESM2-1\",  #ssp3\n",
    "          \"GFDL-ESM4\", \"INM-CM4-8\", \"INM-CM5-0\", \"IPSL-CM6A-LR\", \"MIROC6\",  \"MPI-ESM1-2-LR\", \"MRI-ESM2-0\", \"UKESM1-0-LL\"]\n",
    "elif scenario==\"hist\":\n",
    "    models = [\"ACCESS-CM2\", \"ACCESS-ESM1\", \"CESM2-WACCM\", \"CNRM-CM6-1\", \"CNRM-CM6-1-HR\", \"CNRM-ESM2-1\", #ssp5,2\n",
    "         \"GFDL-CM4\", \"GFDL-ESM4\",\"HadGEM3-GC31-LL\", \"INM-CM4-8\", \"INM-CM5-0\", \"IPSL-CM6A-LR\", \"MIROC6\", \n",
    "         \"MPI-ESM1-2-HR\", \"MPI-ESM1-2-LR\", \"MRI-ESM2-0\", \"NorESM2-MM\", \"UKESM1-0-LL\"]\n",
    "#\n",
    "    #models=[\"KACE-1-0-G\", \"MIROC-ES2L\", \"NESM3\", \"NorESM2-LM\"]\n",
    "if mode=='future':\n",
    "    year_zusatz = \"2070-2099.N_\"+saison+\"_atrbg_aacHrm21\"\n",
    "    print(\"future\")\n",
    "else:\n",
    "    year_zusatz = \"1985-2014.N_\"+saison+\"_atrbg_aacrm21\"\n",
    "def distance(center,array):\n",
    "    result = np.zeros(len(array))\n",
    "    for i in range(len(array)):\n",
    "        result[i]=np.linalg.norm(array[i]-center)\n",
    "    return result\n",
    "def scientific_to_standard(num_string):\n",
    "    return float(num_string.replace('E+', '1e'))\n",
    "\n",
    "for model in models:\n",
    "    #pc = pd.read_csv(,sep=\"\\t\",header=None)\n",
    "    with open(r'N:/atm_glomod/user/jomuel001/CMIP6_models/'+model+r'/AREA.'+AREA+r'/EOF/PCslp_hpa'+scenario+'_'+model+'_'+year_zusatz+r'_remapbnds_proj_on_EOF_ERA51985-2014slp_hpa_ERA5_1985-2014_'+saison+'_atrbg_aacrm21_remapbnds_cos_cov_svd_unnorm', 'r') as file:\n",
    "        contents = file.read().split()\n",
    "        arr =np.array([float(item) for item in contents])\n",
    "        pc = arr.reshape((-1, 10))\n",
    "    data = {'dist_cl1': distance(centers[0],pc),\n",
    "        'dist_cl2': distance(centers[1],pc),\n",
    "        'dist_cl3': distance(centers[2],pc),\n",
    "        'dist_cl4': distance(centers[3],pc),\n",
    "        'dist_cl5': distance(centers[4],pc),\n",
    "        'dist_cl6': distance(centers[5],pc)}\n",
    "    print(np.shape(data['dist_cl1']))\n",
    "    tag=0\n",
    "    tage_1=[]\n",
    "    tage_2=[]\n",
    "    tage_3=[]\n",
    "    tage_4=[]\n",
    "    tage_5=[]\n",
    "    tage_6=[]\n",
    "    #null=np.array([0])\n",
    "    #np.savetxt(r'N:/atm_glomod/user/jomuel001/CMIP6_models/'+model+r'/AREA.'+AREA+r'/CLUSTER/KMEANSslp_hpa'+scenario+'_'+model+'_'+year_zusatz+'_remapbnds_proj_on_EOF_ERA51985-2014slp_hpa_ERA5_1985-2014_'+saison+'_atrbg_aacrm21_remapbnds_unnorm_projectedpattern_6tabcluster_10tabPC_dates', null)\n",
    "    # Ensure the directory structure exists, creating any missing directories\n",
    "    #os.makedirs(file_path, exist_ok=True)\n",
    "    with open(r'N:/atm_glomod/user/jomuel001/CMIP6_models/'+model+r'/AREA.'+AREA+r'/CLUSTER/KMEANSslp_hpa'+scenario+'_'+model+'_'+year_zusatz+'_remapbnds_proj_on_EOF_ERA51985-2014slp_hpa_ERA5_1985-2014_'+saison+'_atrbg_aacrm21_remapbnds_unnorm_projectedpattern_6tabcluster_10tabPC_dates', 'w') as f:\n",
    "        try:\n",
    "            for year in years:\n",
    "                for month in months: \n",
    "                    for day in range(1,seas[month-1]+1):\n",
    "                        try:\n",
    "                            distances_tag = np.array([data['dist_cl1'][tag], data['dist_cl2'][tag], data['dist_cl3'][tag], data['dist_cl4'][tag], data['dist_cl5'][tag]], data['dist_cl6'][tag])\n",
    "                            minimum_index = np.argmin(distances_tag)\n",
    "                        except:\n",
    "                            minimum_index = -1\n",
    "                        write_array = np.array([year, month, day, minimum_index+1,0,0])\n",
    "                        f.write(' '.join(map(str, write_array)))\n",
    "                        f.write('\\n')\n",
    "                        if minimum_index+1==1:\n",
    "                            tage_1.append(int(tag))\n",
    "                        elif minimum_index+1==2:\n",
    "                            tage_2.append(int(tag))\n",
    "                        elif minimum_index+1==3:\n",
    "                            tage_3.append(int(tag))\n",
    "                        elif minimum_index+1==4:\n",
    "                            tage_4.append(int(tag))\n",
    "                        elif minimum_index+1==5: \n",
    "                            tage_5.append(int(tag))\n",
    "                        elif minimum_index+1==6: \n",
    "                            tage_6.append(int(tag))\n",
    "                        else:\n",
    "                            continue\n",
    "                        tag+=1\n",
    "        except:\n",
    "            print(\"fehlen bei \"+model+\" 120 tage\")\n",
    "    tage_1=np.array(tage_1)\n",
    "    tage_2=np.array(tage_2)\n",
    "    tage_3=np.array(tage_3)\n",
    "    tage_4=np.array(tage_4)\n",
    "    tage_5=np.array(tage_5)\n",
    "    tage_6=np.array(tage_6)\n",
    "    np.savetxt('N:/atm_glomod/user/jomuel001/CMIP6_models/'+model+r'/AREA.'+AREA+r'/CLUSTER/KMEANSslp_hpa'+scenario+'_'+model+'_'+year_zusatz+'_remapbnds_proj_on_EOF_ERA51985-2014slp_hpa_ERA5_1985-2014_'+saison+'_atrbg_aacrm21_remapbnds_unnorm_projectedpattern_6cluster_10PC_cl1_dates', tage_1,fmt='%d')\n",
    "    np.savetxt('N:/atm_glomod/user/jomuel001/CMIP6_models/'+model+r'/AREA.'+AREA+r'/CLUSTER/KMEANSslp_hpa'+scenario+'_'+model+'_'+year_zusatz+'_remapbnds_proj_on_EOF_ERA51985-2014slp_hpa_ERA5_1985-2014_'+saison+'_atrbg_aacrm21_remapbnds_unnorm_projectedpattern_6cluster_10PC_cl2_dates', tage_2,fmt='%d')\n",
    "    np.savetxt('N:/atm_glomod/user/jomuel001/CMIP6_models/'+model+r'/AREA.'+AREA+r'/CLUSTER/KMEANSslp_hpa'+scenario+'_'+model+'_'+year_zusatz+'_remapbnds_proj_on_EOF_ERA51985-2014slp_hpa_ERA5_1985-2014_'+saison+'_atrbg_aacrm21_remapbnds_unnorm_projectedpattern_6cluster_10PC_cl3_dates', tage_3,fmt='%d')\n",
    "    np.savetxt('N:/atm_glomod/user/jomuel001/CMIP6_models/'+model+r'/AREA.'+AREA+r'/CLUSTER/KMEANSslp_hpa'+scenario+'_'+model+'_'+year_zusatz+'_remapbnds_proj_on_EOF_ERA51985-2014slp_hpa_ERA5_1985-2014_'+saison+'_atrbg_aacrm21_remapbnds_unnorm_projectedpattern_6cluster_10PC_cl4_dates', tage_4,fmt='%d')\n",
    "    np.savetxt('N:/atm_glomod/user/jomuel001/CMIP6_models/'+model+r'/AREA.'+AREA+r'/CLUSTER/KMEANSslp_hpa'+scenario+'_'+model+'_'+year_zusatz+'_remapbnds_proj_on_EOF_ERA51985-2014slp_hpa_ERA5_1985-2014_'+saison+'_atrbg_aacrm21_remapbnds_unnorm_projectedpattern_6cluster_10PC_cl5_dates', tage_5,fmt='%d')\n",
    "    np.savetxt('N:/atm_glomod/user/jomuel001/CMIP6_models/'+model+r'/AREA.'+AREA+r'/CLUSTER/KMEANSslp_hpa'+scenario+'_'+model+'_'+year_zusatz+'_remapbnds_proj_on_EOF_ERA51985-2014slp_hpa_ERA5_1985-2014_'+saison+'_atrbg_aacrm21_remapbnds_unnorm_projectedpattern_6cluster_10PC_cl6_dates', tage_6,fmt='%d')   "
   ]
  },
  {
   "cell_type": "code",
   "execution_count": 9,
   "metadata": {},
   "outputs": [
    {
     "data": {
      "text/plain": [
       "{'dist_cl1': array([520.61377779, 466.16006797, 390.48293795, ..., 702.81508495,\n",
       "        695.27387142, 622.20784393]),\n",
       " 'dist_cl2': array([480.43005077, 460.43248107, 360.39096105, ..., 647.74793573,\n",
       "        661.08907426, 625.27466283]),\n",
       " 'dist_cl3': array([537.70502749, 492.29440896, 422.28705977, ..., 587.62964783,\n",
       "        571.23406439, 497.56764435]),\n",
       " 'dist_cl4': array([378.28377693, 344.23100811, 308.57692367, ..., 698.62874496,\n",
       "        734.90263675, 714.36001287]),\n",
       " 'dist_cl5': array([396.62938766, 368.89386935, 314.52531786, ..., 641.74331754,\n",
       "        663.1536348 , 608.6340735 ]),\n",
       " 'dist_cl6': array([288.36640253, 244.6280062 , 227.14086239, ..., 471.33589423,\n",
       "        508.520744  , 519.50988966])}"
      ]
     },
     "execution_count": 9,
     "metadata": {},
     "output_type": "execute_result"
    }
   ],
   "source": [
    "data"
   ]
  },
  {
   "cell_type": "code",
   "execution_count": null,
   "metadata": {},
   "outputs": [],
   "source": []
  },
  {
   "cell_type": "code",
   "execution_count": null,
   "metadata": {},
   "outputs": [],
   "source": []
  },
  {
   "cell_type": "code",
   "execution_count": null,
   "metadata": {},
   "outputs": [],
   "source": []
  }
 ],
 "metadata": {
  "kernelspec": {
   "display_name": "Python 3 (ipykernel)",
   "language": "python",
   "name": "python3"
  },
  "language_info": {
   "codemirror_mode": {
    "name": "ipython",
    "version": 3
   },
   "file_extension": ".py",
   "mimetype": "text/x-python",
   "name": "python",
   "nbconvert_exporter": "python",
   "pygments_lexer": "ipython3",
   "version": "3.11.5"
  }
 },
 "nbformat": 4,
 "nbformat_minor": 4
}
